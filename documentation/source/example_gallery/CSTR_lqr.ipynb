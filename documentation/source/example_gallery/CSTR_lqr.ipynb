{
 "cells": [
  {
   "cell_type": "markdown",
   "metadata": {},
   "source": [
    "# Continuous stirred tank reactor (CSTR)\n",
    "\n",
    "In this Jupyter Notebook we illustrate the example CSTR\n",
    "\n",
    "**Open an interactive online Jupyter Notebook with this content on Binder:**\n",
    "\n",
    "[![Binder](https://mybinder.org/badge_logo.svg)](https://mybinder.org/v2/gh/do-mpc/do-mpc.git/master?filepath=%2Fdocumentation%2Fsource%2Fexample_gallery%2FCSTR.ipynb)\n",
    "\n",
    "The example consists of the three modules **template_model.py**, which describes the system model, **template_lqr.py**, which defines the settings for the control and **template_simulator.py**, which sets the parameters for the simulator.\n",
    "The modules are used in **main.py** for the closed-loop execution of the controller.\n",
    "The file **post_processing.py** is used for the visualization of the closed-loop control run.\n",
    "\n",
    "In the following the different parts are presented. But first, we start by importing basic modules and **do-mpc**."
   ]
  },
  {
   "cell_type": "code",
   "execution_count": 1,
   "metadata": {},
   "outputs": [],
   "source": [
    "import numpy as np\n",
    "import sys\n",
    "from casadi import *\n",
    "from casadi.tools import *\n",
    "import matplotlib.pyplot as plt\n",
    "import pdb\n",
    "\n",
    "# Add do_mpc to path. This is not necessary if it was installed via pip\n",
    "import os\n",
    "rel_do_mpc_path = os.path.join('..','..','..')\n",
    "sys.path.append(rel_do_mpc_path)\n",
    "\n",
    "# Import do_mpc package:\n",
    "import do_mpc\n",
    "from do_mpc.tools import Timer\n",
    "import pickle\n",
    "import time"
   ]
  },
  {
   "cell_type": "markdown",
   "metadata": {},
   "source": [
    "## Model\n",
    "\n",
    "In the following we will present the configuration, setup and connection between these blocks, starting with the `model`.\n",
    "The considered model of the CSTR is continuous and has 4 states and 2 control inputs.\n",
    "The model is initiated by:"
   ]
  },
  {
   "cell_type": "code",
   "execution_count": 2,
   "metadata": {},
   "outputs": [],
   "source": [
    "model_type = 'continuous' # either 'discrete' or 'continuous'\n",
    "model = do_mpc.model.Model(model_type)"
   ]
  },
  {
   "cell_type": "markdown",
   "metadata": {},
   "source": [
    "### States and control inputs\n",
    "\n",
    "The four states are concentration of reactant A ($C_{\\text{A}}$), the concentration of reactant B ($C_{\\text{B}}$), the temperature inside the reactor ($T_{\\text{R}}$) and the temperature of the cooling jacket ($T_{\\text{J}}$):"
   ]
  },
  {
   "cell_type": "code",
   "execution_count": 3,
   "metadata": {},
   "outputs": [],
   "source": [
    "# States struct (optimization variables):\n",
    "C_a = model.set_variable(var_type='_x', var_name='C_a', shape=(1,1))\n",
    "C_b = model.set_variable(var_type='_x', var_name='C_b', shape=(1,1))\n",
    "T_R = model.set_variable(var_type='_x', var_name='T_R', shape=(1,1))\n",
    "T_J = model.set_variable(var_type='_x', var_name='T_J', shape=(1,1))"
   ]
  },
  {
   "cell_type": "markdown",
   "metadata": {},
   "source": [
    "The control inputs are the feed $Fr$ and the heat removal by the jacket $Q_J$:"
   ]
  },
  {
   "cell_type": "code",
   "execution_count": 4,
   "metadata": {},
   "outputs": [],
   "source": [
    "# Input struct (optimization variables):\n",
    "Fr = model.set_variable(var_type='_u', var_name='Fr')\n",
    "Q_J = model.set_variable(var_type='_u', var_name='Q_J')"
   ]
  },
  {
   "cell_type": "markdown",
   "metadata": {},
   "source": [
    "### ODE and parameters\n",
    "\n",
    "The system model is described by the ordinary differential equation:\n",
    "\n",
    "\\begin{align}\n",
    "\\dot{C}_{\\text{A}} &= \\frac{Fr}{V} \\cdot (C_{\\text{A}_{in}} - C_{\\text{A}}) - r_1, \\\\\n",
    "\\dot{C}_{\\text{B}} &= -\\frac{Fr}{V} \\cdot C_{\\text{B}} + r_1 - r_2, \\\\\n",
    "\\dot{T}_{\\text{R}} &= \\frac{Fr}{V} \\cdot (T_{\\text{in}-T_{\\text{R}}}) -\\frac{k \\cdot A \\cdot (T_{\\text{R}}-T_{\\text{J}})}{\\rho \\cdot c_{\\text{p}} \\cdot V} +\\frac{\\Delta H_{\\text{R,1}}\\cdot (-r_1)+\\Delta H_{\\text{R,2}}\\cdot (-r_2)}{\\rho \\cdot c_{\\text{p}}}, \\\\\n",
    "\\dot{T}_{\\text{J}} &= \\frac{-Q_{\\text{J}} + k \\cdot A \\cdot (T_{\\text{R}}-T_{\\text{J}})}{m_j \\cdot C_{p,J}}, \\\\\n",
    "\\end{align}\n",
    "\n",
    "where\n",
    "\n",
    "\\begin{align}\n",
    "r_1 &= k0_1\\cdot\\exp(\\frac{-E_{\\text{{R,1}}}}{T_{\\text{R}}})\\cdot C_{\\text{A}} \\\\\n",
    "r_2 &= k0_2\\cdot\\exp(\\frac{-E_{\\text{{R,2}}}}{T_{\\text{R}}})\\cdot C_{\\text{B}}\\\\\n",
    "\\end{align}"
   ]
  },
  {
   "cell_type": "code",
   "execution_count": 5,
   "metadata": {},
   "outputs": [],
   "source": [
    "# Certain parameters\n",
    "K0_1 = 2.145e10      # [min^-1]\n",
    "K0_2 = 2.145e10      # [min^-1]\n",
    "E_R_1 = 9758.3       # [K]\n",
    "E_R_2 = 9758.3       # [K]\n",
    "delH_R_1 = -4200     # [kJ/kmol]\n",
    "del_H_R_2 = -11000   # [kJ/kmol]\n",
    "T_in = 387.05        # [K]\n",
    "rho = 934.2          # [kg/m^3]\n",
    "cp = 3.01            # [kJ/m^3.K]\n",
    "cp_J = 2             # [kJ/m^3.K]\n",
    "m_j = 5              # [kg]\n",
    "kA = 14.448          # [kJ/min.K]\n",
    "C_ain = 5.1          # [kmol/m^3]\n",
    "V = 0.01             # [m^3]"
   ]
  },
  {
   "cell_type": "markdown",
   "metadata": {},
   "source": [
    "In the next step, we formulate the $r_i$-s:"
   ]
  },
  {
   "cell_type": "code",
   "execution_count": 6,
   "metadata": {},
   "outputs": [],
   "source": [
    "# Auxiliary terms\n",
    "r_1 = K0_1 * exp((-E_R_1)/((T_R)))*C_a\n",
    "r_2 = K0_2 * exp((-E_R_2)/((T_R)))*C_b"
   ]
  },
  {
   "cell_type": "markdown",
   "metadata": {},
   "source": [
    "WIth the help ot the $k_i$-s and other available parameters we can define the ODEs:"
   ]
  },
  {
   "cell_type": "code",
   "execution_count": 7,
   "metadata": {},
   "outputs": [],
   "source": [
    "# Differential equations\n",
    "model.set_rhs('C_a', (Fr/V)*(C_ain-C_a)-r_1)\n",
    "model.set_rhs('C_b', -(Fr/V)*C_b + r_1 - r_2)\n",
    "model.set_rhs('T_R', (Fr/V)*(T_in-T_R)-(kA/(rho*cp*V))*(T_R-T_J)+(1/(rho*cp))*((delH_R_1*(-r_1))+(del_H_R_2*(-r_2))))\n",
    "model.set_rhs('T_J', (1/(m_j*cp_J))*(-Q_J+kA*(T_R-T_J)))"
   ]
  },
  {
   "cell_type": "markdown",
   "metadata": {},
   "source": [
    "Finally, the model setup is completed:"
   ]
  },
  {
   "cell_type": "code",
   "execution_count": 8,
   "metadata": {},
   "outputs": [],
   "source": [
    "# Build the model\n",
    "model.setup()"
   ]
  },
  {
   "cell_type": "markdown",
   "metadata": {},
   "source": [
    "To design a LQR, we need a discrete Linear Time Invariant (LTI) system. In the following blocks of code, we will obtain such a model. Firstly, we will linearize a non-linear model around equilibrium point."
   ]
  },
  {
   "cell_type": "code",
   "execution_count": 9,
   "metadata": {},
   "outputs": [],
   "source": [
    "# Steady state values\n",
    "F_ss = 0.002365    # [m^3/min]\n",
    "Q_ss = 18.5583     # [kJ/min]\n",
    "    \n",
    "C_ass = 1.6329     # [kmol/m^3]\n",
    "C_bss = 1.1101     # [kmolm^3]\n",
    "T_Rss = 398.6581   # [K]\n",
    "T_Jss = 397.3736   # [K]\n",
    "\n",
    "uss = np.array([[F_ss],[Q_ss]])\n",
    "xss = np.array([[C_ass],[C_bss],[T_Rss],[T_Jss]])\n",
    "\n",
    "# Linearize the non-linear model\n",
    "linearmodel = do_mpc.model.linearize(model, xss, uss)"
   ]
  },
  {
   "cell_type": "markdown",
   "metadata": {},
   "source": [
    "Now we dicretize the continuous LTI model with sampling time $t_\\text{step} = 0.5$ ."
   ]
  },
  {
   "cell_type": "code",
   "execution_count": 10,
   "metadata": {},
   "outputs": [
    {
     "name": "stderr",
     "output_type": "stream",
     "text": [
      "..\\..\\..\\do_mpc\\model\\_linearmodel.py:296: UserWarning: sampling time is 0.5\n",
      "  warnings.warn('sampling time is {}'.format(t_step))\n"
     ]
    }
   ],
   "source": [
    "t_step = 0.5\n",
    "model_dc = linearmodel.discretize(t_step, conv_method = 'zoh') # ['zoh','foh','bilinear','euler','backward_diff','impulse']"
   ]
  },
  {
   "cell_type": "markdown",
   "metadata": {},
   "source": [
    "## Controller\n",
    "\n",
    "Now, we design Linear Quadratic Regulator for the above configured model. First, we create an instance of the class."
   ]
  },
  {
   "cell_type": "code",
   "execution_count": 11,
   "metadata": {},
   "outputs": [],
   "source": [
    "# Initialize the controller\n",
    "lqr = do_mpc.controller.LQR(model_dc)"
   ]
  },
  {
   "cell_type": "markdown",
   "metadata": {},
   "source": [
    "We choose the prediction horizon `n_horizon = 10`, the time step `t_step = 0.5s` second."
   ]
  },
  {
   "cell_type": "code",
   "execution_count": 12,
   "metadata": {},
   "outputs": [],
   "source": [
    "# Initialize parameters\n",
    "setup_lqr = {'n_horizon':20,\n",
    "            't_step':t_step}\n",
    "lqr.set_param(**setup_lqr)"
   ]
  },
  {
   "cell_type": "markdown",
   "metadata": {},
   "source": [
    "### Objective\n",
    "\n",
    "The goal of CSTR is to drive the states to the desired set points.\n",
    "\n",
    "**Inputs**\n",
    "\\begin{align}\n",
    "    Fr_{\\text{ref}} &= 0.002365 \\frac{m^3}{min} \\\\\n",
    "    Q_{\\text{J,ref}} &= 18.5583 \\frac{kJ}{min} \\\\\n",
    "\\end{align}\n",
    "**States**\n",
    "\\begin{align}\n",
    "    C_{\\text{A,ref}} &= 1.6329 \\frac{kmol}{m^3} \\\\\n",
    "    C_{\\text{B,ref}} &= 1.1101 \\frac{kmol}{m^3} \\\\\n",
    "    T_{\\text{R,ref}} &= 398.6581 K \\\\\n",
    "    T_{\\text{J,ref}} &= 397.3736 K \\\\\n",
    "\\end{align}\n"
   ]
  },
  {
   "cell_type": "code",
   "execution_count": 13,
   "metadata": {},
   "outputs": [
    {
     "name": "stderr",
     "output_type": "stream",
     "text": [
      "..\\..\\..\\do_mpc\\controller\\_lqr.py:409: UserWarning: P is not given explicitly. Q is chosen as P for calculating finite discrete gain\n",
      "  warnings.warn('P is not given explicitly. Q is chosen as P for calculating finite discrete gain')\n"
     ]
    }
   ],
   "source": [
    "# Set objective\n",
    "Q = 10*np.array([[1,0,0,0],[0,1,0,0],[0,0,0.01,0],[0,0,0,0.01]])\n",
    "R = np.array([[1e-1,0],[0,1e-5]])\n",
    "    \n",
    "lqr.set_objective(Q=Q, R=R)"
   ]
  },
  {
   "cell_type": "markdown",
   "metadata": {},
   "source": [
    "Now we run the LQR with the rated input. In order to do so, we set the cost matrix for the rated input as below:"
   ]
  },
  {
   "cell_type": "code",
   "execution_count": 14,
   "metadata": {},
   "outputs": [],
   "source": [
    "Rdelu = np.array([[1e8,0],[0,1]])\n",
    "lqr.set_rterm(delR = Rdelu)"
   ]
  },
  {
   "cell_type": "markdown",
   "metadata": {},
   "source": [
    "Finally, LQR setup is completed"
   ]
  },
  {
   "cell_type": "code",
   "execution_count": 15,
   "metadata": {},
   "outputs": [],
   "source": [
    "# set up lqr\n",
    "lqr.setup()"
   ]
  },
  {
   "cell_type": "markdown",
   "metadata": {},
   "source": [
    "## Estimator\n",
    "\n",
    "We assume, that all states can be directly measured (state-feedback):"
   ]
  },
  {
   "cell_type": "code",
   "execution_count": 16,
   "metadata": {},
   "outputs": [],
   "source": [
    "estimator = do_mpc.estimator.StateFeedback(model)"
   ]
  },
  {
   "cell_type": "markdown",
   "metadata": {},
   "source": [
    "## Simulator\n",
    "\n",
    "To create a simulator in order to run the LQR in a closed-loop, we create an instance of the **do-mpc** simulator which is based on the non-linear model:"
   ]
  },
  {
   "cell_type": "code",
   "execution_count": 17,
   "metadata": {},
   "outputs": [],
   "source": [
    "simulator = do_mpc.simulator.Simulator(model)"
   ]
  },
  {
   "cell_type": "markdown",
   "metadata": {},
   "source": [
    "For the simulation, we use the same time step `t_step` as for the optimizer:"
   ]
  },
  {
   "cell_type": "code",
   "execution_count": 18,
   "metadata": {},
   "outputs": [],
   "source": [
    "params_simulator = {\n",
    "    'integration_tool': 'cvodes',\n",
    "    'abstol': 1e-10,\n",
    "    'reltol': 1e-10,\n",
    "    't_step': t_step\n",
    "}\n",
    "\n",
    "simulator.set_param(**params_simulator)"
   ]
  },
  {
   "cell_type": "markdown",
   "metadata": {},
   "source": [
    "To finish the configuration of the simulator, call:"
   ]
  },
  {
   "cell_type": "code",
   "execution_count": 19,
   "metadata": {},
   "outputs": [],
   "source": [
    "simulator.setup()"
   ]
  },
  {
   "cell_type": "markdown",
   "metadata": {},
   "source": [
    "## Closed-loop simulation\n",
    "\n",
    "For the simulation of the LQR configured for the CSTR, we inspect the file **main.py**.\n",
    "We define the initial state of the system and set it for all parts of the closed-loop configuration. Furthermore, we set the desired destination for the states and input."
   ]
  },
  {
   "cell_type": "code",
   "execution_count": 20,
   "metadata": {},
   "outputs": [],
   "source": [
    "# Set the initial state of simulator:\n",
    "C_a0 = 0\n",
    "C_b0 = 0\n",
    "T_R0 = 387.05\n",
    "T_J0 = 387.05\n",
    "\n",
    "x0 = np.array([C_a0, C_b0, T_R0, T_J0]).reshape(-1,1)\n",
    "\n",
    "simulator.x0 = x0\n",
    "\n",
    "lqr.set_setpoint(xss=xss,uss=uss)"
   ]
  },
  {
   "cell_type": "markdown",
   "metadata": {},
   "source": [
    "Now, we simulate the closed-loop for 100 steps:"
   ]
  },
  {
   "cell_type": "code",
   "execution_count": 21,
   "metadata": {},
   "outputs": [],
   "source": [
    "#Run LQR main loop:\n",
    "for k in range(100):\n",
    "    u0 = lqr.make_step(x0)\n",
    "    y_next = simulator.make_step(u0)\n",
    "    x0 = y_next"
   ]
  },
  {
   "cell_type": "markdown",
   "metadata": {},
   "source": [
    "## Plotting\n",
    "\n",
    "Now we plot the results obtained in the closed loop simulation."
   ]
  },
  {
   "cell_type": "code",
   "execution_count": 22,
   "metadata": {},
   "outputs": [
    {
     "data": {
      "image/png": "[encoded data removed]",
      "text/plain": [
       "<Figure size 1152x648 with 6 Axes>"
      ]
     },
     "metadata": {
      "needs_background": "light"
     },
     "output_type": "display_data"
    }
   ],
   "source": [
    "fig, ax, graphics = do_mpc.graphics.default_plot(simulator.data, figsize=(16,9))\n",
    "graphics.plot_results()\n",
    "graphics.reset_axes()\n",
    "plt.show()  "
   ]
  },
  {
   "cell_type": "code",
   "execution_count": null,
   "metadata": {},
   "outputs": [],
   "source": []
  }
 ],
 "metadata": {
  "kernelspec": {
   "display_name": "Python 3",
   "language": "python",
   "name": "python3"
  },
  "language_info": {
   "codemirror_mode": {
    "name": "ipython",
    "version": 3
   },
   "file_extension": ".py",
   "mimetype": "text/x-python",
   "name": "python",
   "nbconvert_exporter": "python",
   "pygments_lexer": "ipython3",
   "version": "3.8.8"
  },
  "vscode": {
   "interpreter": {
    "hash": "6ca95230167e3192cc4195b2020cf6dadbcb6e1c88ae47c35dd91c04d0ebff5f"
   }
  }
 },
 "nbformat": 4,
 "nbformat_minor": 2
}
