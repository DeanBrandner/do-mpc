{
 "cells": [
  {
   "cell_type": "markdown",
   "id": "11ccd34a",
   "metadata": {},
   "source": [
    "# OPCUA Bio Reactor Example\n"
   ]
  },
  {
   "cell_type": "markdown",
   "id": "15a377ed",
   "metadata": {},
   "source": [
    "Start by importing the required packages:"
   ]
  },
  {
   "cell_type": "code",
   "execution_count": 1,
   "id": "9402b76b",
   "metadata": {},
   "outputs": [],
   "source": [
    "import numpy as np\n",
    "import do_mpc\n",
    "import time\n",
    "import opcua_wrapper"
   ]
  },
  {
   "cell_type": "markdown",
   "id": "cb26298c",
   "metadata": {},
   "source": [
    "Next we define the model since we need it to initialize the server:"
   ]
  },
  {
   "cell_type": "code",
   "execution_count": 2,
   "id": "6811af9d",
   "metadata": {},
   "outputs": [],
   "source": [
    "model_type = 'continuous' # either 'discrete' or 'continuous'\n",
    "model = do_mpc.model.Model(model_type)\n",
    "# States struct (optimization variables):\n",
    "X_s = model.set_variable('_x',  'X_s')\n",
    "S_s = model.set_variable('_x',  'S_s')\n",
    "P_s = model.set_variable('_x',  'P_s')\n",
    "V_s = model.set_variable('_x',  'V_s')\n",
    "# Input struct (optimization variables):\n",
    "inp = model.set_variable('_u',  'inp')\n",
    "# Certain parameters\n",
    "mu_m  = 0.02\n",
    "K_m   = 0.05\n",
    "K_i   = 5.0\n",
    "v_par = 0.004\n",
    "Y_p   = 1.2\n",
    "\n",
    "# Uncertain parameters:\n",
    "Y_x  = model.set_variable('_p',  'Y_x')\n",
    "S_in = model.set_variable('_p', 'S_in')\n",
    "# Auxiliary term\n",
    "mu_S = mu_m*S_s/(K_m+S_s+(S_s**2/K_i))\n",
    "\n",
    "# Differential equations\n",
    "model.set_rhs('X_s', mu_S*X_s - inp/V_s*X_s)\n",
    "model.set_rhs('S_s', -mu_S*X_s/Y_x - v_par*X_s/Y_p + inp/V_s*(S_in-S_s))\n",
    "model.set_rhs('P_s', v_par*X_s - inp/V_s*P_s)\n",
    "model.set_rhs('V_s', inp)\n",
    "# Build the model\n",
    "model.setup()"
   ]
  },
  {
   "cell_type": "markdown",
   "id": "088a49b0",
   "metadata": {},
   "source": [
    "Now we can pass the model to the .Server() class so that it can create an OPCUA server for us. All information needed to create the so called \"namespace\" can be taken from the model, e.g. the number of states. Of course we also have to provide information like server address and port number."
   ]
  },
  {
   "cell_type": "code",
   "execution_count": 3,
   "id": "96e5242c",
   "metadata": {},
   "outputs": [
    {
     "name": "stdout",
     "output_type": "stream",
     "text": [
      "Server setup #1: You have opted for the data server with state and parameter estimates!\n",
      "Server setup #2: The model parameters will be stored on the server.\n",
      "Server setup #3: The OPCUA server will not have the predictions available at runtime.\n"
     ]
    }
   ],
   "source": [
    "# Defining the settings for the OPCUA server\n",
    "server_opts = {\"_model\":model,                   # must be the model used to define the controller\n",
    "               \"_name\":\"Bio Reactor OPCUA\",      # give the server whatever name you prefer\n",
    "               \"_address\":\"opc.tcp://localhost:4840/freeopcua/server/\",  # does not need changing\n",
    "               \"_port\": 4840,                    # does not need changing\n",
    "               \"_server_type\": \"with_estimator\", # or select \"basic\" for no estimates\n",
    "               \"_store_params\": True,            # should always be set to True to spare yourself the headaches\n",
    "               \"_store_predictions\": False,      # not implemented yet\n",
    "               \"_with_db\": True,                 # set to True if you plan to use the SQL database during/after the runtime \n",
    "               \"_n_steps_pred\": 20}\n",
    "\n",
    "# Create your OPUA server\n",
    "opc_server = opcua_wrapper.Server(server_opts)"
   ]
  },
  {
   "cell_type": "markdown",
   "id": "386ff175",
   "metadata": {},
   "source": [
    "Great, now we can start the server:"
   ]
  },
  {
   "cell_type": "code",
   "execution_count": 4,
   "id": "d8850f26",
   "metadata": {},
   "outputs": [
    {
     "name": "stderr",
     "output_type": "stream",
     "text": [
      "Endpoints other than open requested but private key and certificate are not set.\n",
      "Listening on localhost:4840\n"
     ]
    },
    {
     "name": "stdout",
     "output_type": "stream",
     "text": [
      "SQL database error, the following node can not be historized:\n",
      " ns=2;s=PredictedStates\n",
      "SQL database error, the following node can not be historized:\n",
      " ns=2;s=Estimates.Z\n"
     ]
    },
    {
     "data": {
      "text/plain": [
       "True"
      ]
     },
     "execution_count": 4,
     "metadata": {},
     "output_type": "execute_result"
    }
   ],
   "source": [
    "opc_server.start()"
   ]
  },
  {
   "cell_type": "markdown",
   "id": "211219b8",
   "metadata": {},
   "source": [
    "Before we proceed, let's take a quick look at the namespace created for our server."
   ]
  },
  {
   "cell_type": "code",
   "execution_count": 5,
   "id": "5b4d6767",
   "metadata": {},
   "outputs": [
    {
     "data": {
      "text/plain": [
       "{'PlantData': {'x': 'States.X',\n",
       "  'z': 'States.Z',\n",
       "  'u': 'Inputs',\n",
       "  'y': 'Measurements',\n",
       "  'p': 'Parameters'},\n",
       " 'ControllerData': {'x_init': 'InitialState',\n",
       "  'u_opt': 'OptimalOutputs',\n",
       "  'x_pred': 'PredictedStates',\n",
       "  'u_pred': 'PredictedOutputs'},\n",
       " 'EstimatorData': {'xhat': 'Estimates.X',\n",
       "  'zhat': 'Estimates.Z',\n",
       "  'phat': 'Estimates.P'},\n",
       " 'SupervisionData': {'flags': 'Flags', 'switches': 'Switches'}}"
      ]
     },
     "execution_count": 5,
     "metadata": {},
     "output_type": "execute_result"
    }
   ],
   "source": [
    "opc_server.namespace"
   ]
  },
  {
   "cell_type": "markdown",
   "id": "c050a68e",
   "metadata": {},
   "source": [
    "Ok, now we need to tell the client where to find the server. Note that we can just take the namespace from the opc_server, no need to type it by hand..."
   ]
  },
  {
   "cell_type": "code",
   "execution_count": 6,
   "id": "a09eee4a",
   "metadata": {},
   "outputs": [],
   "source": [
    "client_opts = {\"_address\":\"opc.tcp://localhost:4840/freeopcua/server/\", # the basic implementation, can remain as is\n",
    "               \"_port\": 4840,                              # should remain as is\n",
    "               \"_client_type\": \"ManualUser\",               # simulator, estimator, user\n",
    "               \"_namespace\": opc_server.namespace}         # must match the server, therefore simply copy the namespace "
   ]
  },
  {
   "cell_type": "markdown",
   "id": "489f9b4b",
   "metadata": {},
   "source": [
    "Next we initialize the controller. The trick is that we don't use the normal do-mpc controller, but the opc_controller. But since this inherits all methods from the do-mpc controller, the setup is identical. \n",
    "But before we setup the mpc, we give it the client information that we already defined:"
   ]
  },
  {
   "cell_type": "code",
   "execution_count": 7,
   "id": "662866bc",
   "metadata": {},
   "outputs": [
    {
     "name": "stdout",
     "output_type": "stream",
     "text": [
      "A client of the type - controller - was created\n",
      "The - controller - has just connected to  opc.tcp://localhost:4840/freeopcua/server/\n"
     ]
    }
   ],
   "source": [
    "control_opts = {}\n",
    "control_opts['_opc_opts'] = client_opts\n",
    "control_opts['_cycle_time'] = 10.0      # the cycle time for the asynchronous step\n",
    "control_opts['_output_feedback'] = True # defined wether the controller uses estimator or simulator data\n",
    "control_opts['_user_controlled'] = False\n",
    "control_opts['_opc_opts']['_client_type'] = 'controller'\n",
    "\n",
    "mpc = opcua_wrapper.RealtimeController(model,control_opts)"
   ]
  },
  {
   "cell_type": "markdown",
   "id": "c7ee9705",
   "metadata": {},
   "source": [
    "Let's setup the mpc. This should be familiar."
   ]
  },
  {
   "cell_type": "code",
   "execution_count": 8,
   "id": "4af198c1",
   "metadata": {},
   "outputs": [],
   "source": [
    "setup_mpc = {\n",
    "    'n_horizon': 20,\n",
    "    'n_robust': 1,\n",
    "    'open_loop': 0,\n",
    "    't_step': 1.0,\n",
    "    'state_discretization': 'collocation',\n",
    "    'collocation_type': 'radau',\n",
    "    'collocation_deg': 2,\n",
    "    'collocation_ni': 2,\n",
    "    'store_full_solution': True,\n",
    "    # Use MA27 linear solver in ipopt for faster calculations:\n",
    "    #'nlpsol_opts': {'ipopt.linear_solver': 'MA27'}\n",
    "}\n",
    "\n",
    "mpc.set_param(**setup_mpc)\n",
    "\n",
    "mterm = -model.x['P_s'] # terminal cost\n",
    "lterm = -model.x['P_s'] # stage cost\n",
    "\n",
    "mpc.set_objective(mterm=mterm, lterm=lterm)\n",
    "mpc.set_rterm(inp=1.0) # penalty on input changes\n",
    "\n",
    "# lower bounds of the states\n",
    "mpc.bounds['lower', '_x', 'X_s'] = 0.0\n",
    "mpc.bounds['lower', '_x', 'S_s'] = -0.01\n",
    "mpc.bounds['lower', '_x', 'P_s'] = 0.0\n",
    "mpc.bounds['lower', '_x', 'V_s'] = 0.0\n",
    "\n",
    "# upper bounds of the states\n",
    "mpc.bounds['upper', '_x','X_s'] = 3.7\n",
    "mpc.bounds['upper', '_x','P_s'] = 3.0\n",
    "\n",
    "# upper and lower bounds of the control input\n",
    "mpc.bounds['lower','_u','inp'] = 0.0\n",
    "mpc.bounds['upper','_u','inp'] = 0.2\n",
    "\n",
    "Y_x_values = np.array([0.5, 0.4, 0.3])\n",
    "S_in_values = np.array([200.0, 220.0, 180.0])\n",
    "\n",
    "mpc.set_uncertainty_values(Y_x = Y_x_values, S_in = S_in_values)\n",
    "\n",
    "mpc.setup()"
   ]
  },
  {
   "cell_type": "markdown",
   "id": "116737dd",
   "metadata": {},
   "source": [
    "This procedure is reapeated for the simulator:"
   ]
  },
  {
   "cell_type": "code",
   "execution_count": 9,
   "id": "110611a9",
   "metadata": {},
   "outputs": [
    {
     "name": "stdout",
     "output_type": "stream",
     "text": [
      "A client of the type - simulator - was created\n",
      "The - simulator - has just connected to  opc.tcp://localhost:4840/freeopcua/server/\n"
     ]
    }
   ],
   "source": [
    "sim_opts = {}\n",
    "sim_opts['_opc_opts'] = client_opts\n",
    "sim_opts['_cycle_time'] = 2\n",
    "sim_opts['_user_controlled'] = False\n",
    "sim_opts['_opc_opts']['_client_type'] = 'simulator'\n",
    "\n",
    "simulator = opcua_wrapper.RealtimeSimulator(model,sim_opts)"
   ]
  },
  {
   "cell_type": "code",
   "execution_count": 10,
   "id": "d16a16f3",
   "metadata": {},
   "outputs": [],
   "source": [
    "params_simulator = {\n",
    "    'integration_tool': 'cvodes',\n",
    "    'abstol': 1e-10,\n",
    "    'reltol': 1e-10,\n",
    "    't_step': 1.0\n",
    "}\n",
    "\n",
    "simulator.set_param(**params_simulator)\n",
    "\n",
    "p_num = simulator.get_p_template()\n",
    "\n",
    "p_num['Y_x'] = 0.4\n",
    "p_num['S_in'] = 200.0\n",
    "\n",
    "# function definition\n",
    "def p_fun(t_now):\n",
    "    return p_num\n",
    "\n",
    "# Set the user-defined function above as the function for the realization of the uncertain parameters\n",
    "simulator.set_p_fun(p_fun)\n",
    "\n",
    "simulator.setup()\n"
   ]
  },
  {
   "cell_type": "markdown",
   "id": "2e07dc24",
   "metadata": {},
   "source": [
    "And for the estimator (which is not implemented yet... so state feedback it is):"
   ]
  },
  {
   "cell_type": "code",
   "execution_count": 11,
   "id": "7aeb56a5",
   "metadata": {},
   "outputs": [
    {
     "name": "stdout",
     "output_type": "stream",
     "text": [
      "A client of the type - estimator - was created\n",
      "The - estimator - has just connected to  opc.tcp://localhost:4840/freeopcua/server/\n"
     ]
    }
   ],
   "source": [
    "est_opts = {}\n",
    "est_opts['_opc_opts'] = client_opts\n",
    "est_opts['_cycle_time'] = 4\n",
    "est_opts['_user_controlled'] = False\n",
    "est_opts['_opc_opts']['_client_type'] = 'estimator'\n",
    "est_opts['_opc_opts']['_output_feedback'] = True\n",
    "\n",
    "estimator = opcua_wrapper.RealtimeEstimator('state-feedback',model,est_opts)"
   ]
  },
  {
   "cell_type": "markdown",
   "id": "e682ba0a",
   "metadata": {},
   "source": [
    "Next we need to write some values to the server. But first we need a initial state:"
   ]
  },
  {
   "cell_type": "code",
   "execution_count": 12,
   "id": "67f9b762",
   "metadata": {},
   "outputs": [],
   "source": [
    "# Initial state\n",
    "X_s_0 = 1.0 # Concentration biomass [mol/l]\n",
    "S_s_0 = 0.5 # Concentration substrate [mol/l]\n",
    "P_s_0 = 0.0 # Concentration product [mol/l]\n",
    "V_s_0 = 120.0 # Volume inside tank [m^3]\n",
    "x0 = np.array([X_s_0, S_s_0, P_s_0, V_s_0])"
   ]
  },
  {
   "cell_type": "code",
   "execution_count": 13,
   "id": "1a3c8bcd",
   "metadata": {},
   "outputs": [
    {
     "name": "stdout",
     "output_type": "stream",
     "text": [
      "\n",
      "******************************************************************************\n",
      "This program contains Ipopt, a library for large-scale nonlinear optimization.\n",
      " Ipopt is released as open source code under the Eclipse Public License (EPL).\n",
      "         For more information visit http://projects.coin-or.org/Ipopt\n",
      "******************************************************************************\n",
      "\n",
      "This is Ipopt version 3.12.3, running with linear solver mumps.\n",
      "NOTE: Other linear solvers might be more efficient (see Ipopt documentation).\n",
      "\n",
      "Number of nonzeros in equality constraint Jacobian...:    20164\n",
      "Number of nonzeros in inequality constraint Jacobian.:        0\n",
      "Number of nonzeros in Lagrangian Hessian.............:     7543\n",
      "\n",
      "Total number of variables............................:     5472\n",
      "                     variables with only lower bounds:     2412\n",
      "                variables with lower and upper bounds:     2592\n",
      "                     variables with only upper bounds:        0\n",
      "Total number of equality constraints.................:     5044\n",
      "Total number of inequality constraints...............:        0\n",
      "        inequality constraints with only lower bounds:        0\n",
      "   inequality constraints with lower and upper bounds:        0\n",
      "        inequality constraints with only upper bounds:        0\n",
      "\n",
      "iter    objective    inf_pr   inf_du lg(mu)  ||d||  lg(rg) alpha_du alpha_pr  ls\n",
      "   0 -1.9996380e-001 2.79e-002 1.94e+002  -1.0 0.00e+000    -  0.00e+000 0.00e+000   0\n",
      "   1 -2.2053913e-001 2.72e-002 1.93e+002  -1.0 1.22e+000  -4.0 4.89e-001 2.79e-002f  1\n",
      "   2 -9.1140070e-001 1.69e-002 6.03e+002  -1.0 6.10e-001  -4.5 6.50e-002 1.00e+000f  1\n",
      "   3 -7.3690065e-001 1.34e-001 1.24e+002  -1.0 9.38e-001  -5.0 1.39e-001 1.00e+000f  1\n",
      "   4 -4.7198981e-001 4.35e-003 7.80e+001  -1.0 1.51e+000  -5.4 3.70e-001 1.00e+000f  1\n",
      "   5 -4.3217720e-001 3.54e-003 2.03e+001  -1.0 9.06e-001  -5.9 7.39e-001 1.83e-001f  1\n",
      "   6 -5.2916170e-001 1.34e-003 8.90e+000  -1.0 2.40e+000  -6.4 5.62e-001 4.71e-001f  1\n",
      "   7 -5.4477077e-001 1.12e-003 5.55e+000  -1.0 3.56e+000  -6.9 4.54e-001 3.86e-001f  1\n",
      "   8 -5.4858750e-001 1.03e-003 2.44e+001  -1.0 3.23e+000  -7.3 1.00e+000 4.10e-001f  1\n",
      "   9 -5.4772116e-001 2.39e-004 2.57e-003  -1.0 6.80e-001  -7.8 1.00e+000 1.00e+000f  1\n",
      "iter    objective    inf_pr   inf_du lg(mu)  ||d||  lg(rg) alpha_du alpha_pr  ls\n",
      "  10 -5.4814070e-001 2.97e-008 2.78e+000  -2.5 8.68e-003  -8.3 9.81e-001 1.00e+000h  1\n",
      "  11 -6.0723864e-001 1.54e-005 2.11e+000  -2.5 1.63e-001  -8.8 2.42e-001 1.00e+000f  1\n",
      "  12 -6.7370468e-001 5.97e-006 1.25e-005  -2.5 9.70e-002  -9.2 1.00e+000 1.00e+000h  1\n",
      "  13 -7.6370456e-001 2.94e-005 2.30e+000  -3.8 1.21e-001  -9.7 4.25e-001 1.00e+000f  1\n",
      "  14 -7.9907993e-001 1.30e-005 1.18e+000  -3.8 1.04e-001 -10.2 4.88e-001 1.00e+000h  1\n",
      "  15 -8.3224425e-001 1.93e-005 5.45e-001  -3.8 1.61e-001 -10.7 5.38e-001 1.00e+000h  1\n",
      "  16 -8.5716298e-001 2.94e-005 2.23e-001  -3.8 2.11e-001 -11.2 5.91e-001 1.00e+000h  1\n",
      "  17 -8.7312863e-001 2.85e-005 2.01e-002  -3.8 2.37e-001 -11.6 9.10e-001 1.00e+000h  1\n",
      "  18 -8.8141544e-001 2.12e-005 1.40e-007  -3.8 2.40e-001 -12.1 1.00e+000 1.00e+000h  1\n",
      "  19 -9.0969593e-001 3.11e-004 9.99e-002  -5.7 8.69e-001 -12.6 5.51e-001 1.00e+000h  1\n",
      "iter    objective    inf_pr   inf_du lg(mu)  ||d||  lg(rg) alpha_du alpha_pr  ls\n",
      "  20 -9.2871671e-001 1.24e-003 4.36e-002  -5.7 1.53e+000 -13.1 5.63e-001 1.00e+000h  1\n",
      "  21 -9.3859536e-001 1.11e-003 1.52e-002  -5.7 1.41e+000 -13.5 6.52e-001 1.00e+000h  1\n",
      "  22 -9.3980828e-001 1.30e-003 6.23e-006  -5.7 4.08e-001 -14.0 1.00e+000 1.00e+000h  1\n",
      "  23 -9.3985514e-001 1.58e-004 7.84e-007  -5.7 9.54e-002 -14.5 1.00e+000 1.00e+000h  1\n",
      "  24 -9.3984781e-001 9.75e-007 4.68e-009  -5.7 6.80e-003 -15.0 1.00e+000 1.00e+000h  1\n",
      "  25 -9.4023386e-001 2.15e-003 1.14e-004  -8.6 1.86e-001 -15.5 9.59e-001 1.00e+000h  1\n",
      "  26 -9.4008116e-001 1.69e-005 4.39e-006  -8.6 6.42e-003 -15.9 9.62e-001 1.00e+000h  1\n",
      "  27 -9.4008110e-001 9.52e-008 2.12e-010  -8.6 7.85e-004 -16.4 1.00e+000 1.00e+000h  1\n",
      "  28 -9.4008109e-001 5.69e-012 3.97e-014  -8.6 6.06e-006 -16.9 1.00e+000 1.00e+000h  1\n",
      "\n",
      "Number of Iterations....: 28\n",
      "\n",
      "                                   (scaled)                 (unscaled)\n",
      "Objective...............: -9.4008109475727986e-001  -9.4008109475727986e-001\n",
      "Dual infeasibility......:  3.9720818284208079e-014   3.9720818284208079e-014\n",
      "Constraint violation....:  5.6916485413616158e-012   5.6916485413616158e-012\n",
      "Complementarity.........:  2.5059121502255051e-009   2.5059121502255051e-009\n",
      "Overall NLP error.......:  2.5059121502255051e-009   2.5059121502255051e-009\n",
      "\n",
      "\n",
      "Number of objective function evaluations             = 29\n",
      "Number of objective gradient evaluations             = 29\n",
      "Number of equality constraint evaluations            = 29\n",
      "Number of inequality constraint evaluations          = 0\n",
      "Number of equality constraint Jacobian evaluations   = 29\n",
      "Number of inequality constraint Jacobian evaluations = 0\n",
      "Number of Lagrangian Hessian evaluations             = 28\n",
      "Total CPU secs in IPOPT (w/o function evaluations)   =      0.940\n",
      "Total CPU secs in NLP function evaluations           =      0.040\n",
      "\n",
      "EXIT: Optimal Solution Found.\n",
      "           S  :   t_proc      (avg)   t_wall      (avg)    n_eval\n",
      "       nlp_f  |        0 (       0) 507.00us ( 17.48us)        29\n",
      "       nlp_g  |   7.00ms (241.38us)   5.58ms (192.34us)        29\n",
      "    nlp_grad  |   1.00ms (  1.00ms) 555.00us (555.00us)         1\n",
      "  nlp_grad_f  |   1.00ms ( 33.33us)   1.15ms ( 38.27us)        30\n",
      "  nlp_hess_l  |  12.00ms (428.57us)  12.29ms (438.79us)        28\n",
      "   nlp_jac_g  |  17.00ms (566.67us)  16.32ms (544.00us)        30\n",
      "       total  | 982.00ms (982.00ms) 981.56ms (981.56ms)         1\n"
     ]
    },
    {
     "data": {
      "text/plain": [
       "True"
      ]
     },
     "execution_count": 13,
     "metadata": {},
     "output_type": "execute_result"
    }
   ],
   "source": [
    "# Step 1: initilize the simulator part\n",
    "simulator.x0 = x0\n",
    "simulator.init_server() #soll keinen input brauchen weil das ja klar ist...\n",
    "\n",
    "# Step 2: initialize the estimator part (if present)\n",
    "estimator.x0 = x0\n",
    "estimator.init_server()\n",
    "\n",
    "# Step 3: only now can the optimizer be initialized, and a first optimization can be executed\n",
    "time.sleep((simulator.cycle_time+estimator.cycle_time)/2)\n",
    "mpc.x0 = x0\n",
    "mpc.init_server()"
   ]
  },
  {
   "cell_type": "markdown",
   "id": "be4f0e1a",
   "metadata": {},
   "source": [
    "Now the setup is complete and we can begin asynchronous operation:"
   ]
  },
  {
   "cell_type": "code",
   "execution_count": 14,
   "id": "031e77e9",
   "metadata": {},
   "outputs": [
    {
     "name": "stdout",
     "output_type": "stream",
     "text": [
      "This is Ipopt version 3.12.3, running with linear solver mumps.\n",
      "NOTE: Other linear solvers might be more efficient (see Ipopt documentation).\n",
      "\n",
      "Number of nonzeros in equality constraint Jacobian...:    20164\n",
      "Number of nonzeros in inequality constraint Jacobian.:        0\n",
      "Number of nonzeros in Lagrangian Hessian.............:     7543\n",
      "\n",
      "Total number of variables............................:     5472\n",
      "                     variables with only lower bounds:     2412\n",
      "                variables with lower and upper bounds:     2592\n",
      "                     variables with only upper bounds:        0\n",
      "Total number of equality constraints.................:     5044\n",
      "Total number of inequality constraints...............:        0\n",
      "        inequality constraints with only lower bounds:        0\n",
      "   inequality constraints with lower and upper bounds:        0\n",
      "        inequality constraints with only upper bounds:        0\n",
      "\n",
      "iter    objective    inf_pr   inf_du lg(mu)  ||d||  lg(rg) alpha_du alpha_pr  ls\n",
      "   0 -2.5836275e-001 2.63e-002 6.45e+001  -1.0 0.00e+000    -  0.00e+000 0.00e+000   0\n",
      "   1 -1.2040034e+000 6.44e-004 7.09e+000  -1.0 1.16e+000  -4.0 5.74e-001 1.00e+000f  1\n",
      "   2 -1.1648073e+000 5.72e-004 4.28e+001  -1.0 4.22e-001  -4.5 1.90e-001 1.00e+000f  1\n",
      "   3 -1.0187495e+000 5.74e-004 5.40e-001  -1.0 4.74e-001  -5.0 8.95e-001 1.00e+000f  1\n",
      "   4 -8.2762104e-001 5.42e-004 3.38e+000  -1.0 3.60e+000  -5.4 2.48e-001 1.02e-001f  1\n",
      "   5 -8.9160420e-001 1.15e-003 6.75e-001  -1.0 3.88e+000  -5.9 3.51e-001 3.74e-001f  1\n",
      "   6 -8.6893869e-001 1.28e-003 3.15e+001  -1.0 3.52e+000  -6.4 1.00e+000 3.76e-001f  1\n",
      "   7 -8.6946220e-001 5.33e-004 4.76e+000  -1.0 1.07e+000  -6.9 1.00e+000 8.95e-001f  1\n",
      "   8 -8.7274350e-001 5.46e-005 3.08e-004  -1.0 3.07e-001  -7.3 1.00e+000 1.00e+000f  1\n",
      "   9 -8.7303441e-001 4.74e-009 1.28e+000  -2.5 1.43e-003  -7.8 9.86e-001 1.00e+000h  1\n",
      "iter    objective    inf_pr   inf_du lg(mu)  ||d||  lg(rg) alpha_du alpha_pr  ls\n",
      "  10 -9.2046566e-001 1.68e-006 4.90e-001  -2.5 3.60e-002  -8.3 3.38e-001 1.00e+000f  1\n",
      "  11 -9.7267074e-001 3.33e-006 8.19e-006  -2.5 3.56e-002  -8.8 1.00e+000 1.00e+000h  1\n",
      "  12 -1.0685235e+000 4.21e-005 3.20e-001  -3.8 1.16e-001  -9.2 3.72e-001 1.00e+000f  1\n",
      "  13 -1.0978585e+000 8.10e-006 8.86e-002  -3.8 8.39e-002  -9.7 5.40e-001 1.00e+000h  1\n",
      "  14 -1.1350264e+000 2.71e-005 4.80e-002  -3.8 1.60e-001 -10.2 5.42e-001 1.00e+000h  1\n",
      "  15 -1.1602132e+000 2.33e-005 1.80e-002  -3.8 2.00e-001 -10.7 5.94e-001 1.00e+000h  1\n",
      "  16 -1.1761396e+000 2.57e-005 1.84e-003  -3.8 2.26e-001 -11.2 8.72e-001 1.00e+000h  1\n",
      "  17 -1.1839497e+000 1.71e-005 1.64e-007  -3.8 2.09e-001 -11.6 1.00e+000 1.00e+000h  1\n",
      "  18 -1.2134098e+000 3.04e-004 5.25e-003  -5.7 8.54e-001 -12.1 5.35e-001 1.00e+000h  1\n",
      "  19 -1.2328641e+000 1.18e-003 2.34e-003  -5.7 1.49e+000 -12.6 5.58e-001 1.00e+000h  1\n",
      "iter    objective    inf_pr   inf_du lg(mu)  ||d||  lg(rg) alpha_du alpha_pr  ls\n",
      "  20 -1.2428351e+000 1.12e-003 8.59e-004  -5.7 1.40e+000 -13.1 6.33e-001 1.00e+000h  1\n",
      "  21 -1.2439287e+000 1.19e-003 6.38e-006  -5.7 4.04e-001 -13.5 1.00e+000 1.00e+000h  1\n",
      "  22 -1.2439719e+000 1.65e-004 8.12e-007  -5.7 9.72e-002 -14.0 1.00e+000 1.00e+000h  1\n",
      "  23 -1.2439631e+000 9.86e-007 4.69e-009  -5.7 7.00e-003 -14.5 1.00e+000 1.00e+000h  1\n",
      "  24 -1.2443183e+000 1.82e-003 5.86e-006  -8.6 1.78e-001 -15.0 9.58e-001 1.00e+000h  1\n",
      "  25 -1.2441762e+000 6.36e-006 5.54e-007  -8.6 5.81e-003 -15.5 9.78e-001 1.00e+000h  1\n",
      "  26 -1.2441761e+000 4.67e-008 1.11e-010  -8.6 6.02e-004 -15.9 1.00e+000 1.00e+000h  1\n",
      "  27 -1.2441761e+000 7.38e-013 2.71e-014  -8.6 2.39e-006 -16.4 1.00e+000 1.00e+000h  1\n",
      "\n",
      "Number of Iterations....: 27\n",
      "\n",
      "                                   (scaled)                 (unscaled)\n",
      "Objective...............: -1.2441760976191059e+000  -1.2441760976191059e+000\n",
      "Dual infeasibility......:  2.7079978350066039e-014   2.7079978350066039e-014\n",
      "Constraint violation....:  7.3835902669738829e-013   7.3835902669738829e-013\n",
      "Complementarity.........:  2.5059048446096264e-009   2.5059048446096264e-009\n",
      "Overall NLP error.......:  2.5059048446096264e-009   2.5059048446096264e-009\n",
      "\n",
      "\n",
      "Number of objective function evaluations             = 28\n",
      "Number of objective gradient evaluations             = 28\n",
      "Number of equality constraint evaluations            = 28\n",
      "Number of inequality constraint evaluations          = 0\n",
      "Number of equality constraint Jacobian evaluations   = 28\n",
      "Number of inequality constraint Jacobian evaluations = 0\n",
      "Number of Lagrangian Hessian evaluations             = 27\n",
      "Total CPU secs in IPOPT (w/o function evaluations)   =      0.859\n",
      "Total CPU secs in NLP function evaluations           =      0.031\n",
      "\n",
      "EXIT: Optimal Solution Found.\n",
      "           S  :   t_proc      (avg)   t_wall      (avg)    n_eval\n",
      "       nlp_f  |        0 (       0)  10.00us (357.14ns)        28\n",
      "       nlp_g  |   6.00ms (214.29us)   4.89ms (174.64us)        28\n",
      "    nlp_grad  |        0 (       0)        0 (       0)         1\n",
      "  nlp_grad_f  |        0 (       0) 526.00us ( 18.14us)        29\n",
      "  nlp_hess_l  |   8.00ms (296.30us)   9.24ms (342.41us)        27\n",
      "   nlp_jac_g  |  14.00ms (482.76us)  12.98ms (447.52us)        29\n",
      "       total  | 892.00ms (892.00ms) 892.15ms (892.15ms)         1\n"
     ]
    }
   ],
   "source": [
    "\"\"\"\n",
    "Define triggers for each of the modules and start the parallel/asynchronous operation\n",
    "\"\"\"\n",
    "trigger_simulator  = opcua_wrapper.RealtimeTrigger(simulator.cycle_time , simulator.asynchronous_step)\n",
    "\n",
    "trigger_estimator  = opcua_wrapper.RealtimeTrigger(estimator.cycle_time , estimator.asynchronous_step)\n",
    "\n",
    "trigger_controller = opcua_wrapper.RealtimeTrigger(mpc.cycle_time, mpc.asynchronous_step)\n",
    "#leichte möglichkeit den server auszulesen\n",
    "\n",
    "\n",
    "time.sleep(20)\n",
    "\n",
    "trigger_controller.stop()\n",
    "trigger_simulator.stop()\n",
    "trigger_estimator.stop()"
   ]
  },
  {
   "cell_type": "markdown",
   "id": "3ae5ebca",
   "metadata": {},
   "source": [
    "We can now use the .get_data() method to accsess the SQL database."
   ]
  },
  {
   "cell_type": "code",
   "execution_count": 15,
   "id": "5666904a",
   "metadata": {},
   "outputs": [
    {
     "name": "stdout",
     "output_type": "stream",
     "text": [
      "This is Ipopt version 3.12.3, running with linear solver mumps.\n",
      "NOTE: Other linear solvers might be more efficient (see Ipopt documentation).\n",
      "\n",
      "Number of nonzeros in equality constraint Jacobian...:    20164\n",
      "Number of nonzeros in inequality constraint Jacobian.:        0\n",
      "Number of nonzeros in Lagrangian Hessian.............:     7543\n",
      "\n",
      "Total number of variables............................:     5472\n",
      "                     variables with only lower bounds:     2412\n",
      "                variables with lower and upper bounds:     2592\n",
      "                     variables with only upper bounds:        0\n",
      "Total number of equality constraints.................:     5044\n",
      "Total number of inequality constraints...............:        0\n",
      "        inequality constraints with only lower bounds:        0\n",
      "   inequality constraints with lower and upper bounds:        0\n",
      "        inequality constraints with only upper bounds:        0\n",
      "\n",
      "iter    objective    inf_pr   inf_du lg(mu)  ||d||  lg(rg) alpha_du alpha_pr  ls\n",
      "   0 -6.2318757e-001 2.19e-002 1.00e+000  -1.0 0.00e+000    -  0.00e+000 0.00e+000   0\n",
      "   1 -1.6553311e+000 7.98e-004 2.35e+000  -1.0 1.17e+000  -4.0 6.05e-001 1.00e+000f  1\n",
      "   2 -1.4628800e+000 1.68e-003 5.77e+000  -1.0 4.41e-001  -4.5 3.82e-001 1.00e+000f  1\n",
      "   3 -1.2419992e+000 1.12e-003 2.18e+000  -1.0 6.46e-001  -5.0 8.77e-001 4.30e-001f  1\n",
      "   4 -1.3262445e+000 9.99e-004 9.34e+000  -1.0 4.53e+000  -5.4 1.78e-001 2.76e-001f  1\n",
      "   5 -1.3202496e+000 6.05e-004 2.40e+000  -1.0 3.90e+000  -5.9 4.55e-001 2.98e-001f  1\n",
      "   6 -1.3228752e+000 8.10e-004 3.20e+001  -1.0 3.32e+000  -6.4 1.00e+000 3.81e-001f  1\n",
      "   7 -1.3214646e+000 1.68e-004 2.56e-003  -1.0 5.57e-001  -6.9 1.00e+000 1.00e+000f  1\n",
      "   8 -1.3217987e+000 2.23e-008 8.42e-001  -2.5 6.41e-003  -7.3 9.92e-001 1.00e+000h  1\n",
      "   9 -1.3595055e+000 1.33e-005 1.42e-001  -2.5 1.46e-001  -7.8 6.66e-001 1.00e+000f  1\n",
      "iter    objective    inf_pr   inf_du lg(mu)  ||d||  lg(rg) alpha_du alpha_pr  ls\n",
      "  10 -1.3901066e+000 2.22e-006 2.84e-006  -2.5 4.60e-002  -8.3 1.00e+000 1.00e+000h  1\n",
      "  11 -1.4928020e+000 7.63e-005 5.87e-001  -3.8 1.08e-001  -8.8 2.94e-001 1.00e+000f  1\n",
      "  12 -1.5204906e+000 2.75e-005 1.05e-001  -3.8 7.54e-002  -9.2 6.08e-001 1.00e+000h  1\n",
      "  13 -1.5616054e+000 6.77e-005 5.15e-002  -3.8 1.61e-001  -9.7 5.56e-001 1.00e+000h  1\n",
      "  14 -1.5866476e+000 3.50e-005 1.95e-002  -3.8 1.92e-001 -10.2 6.00e-001 1.00e+000h  1\n",
      "  15 -1.6019687e+000 2.08e-005 1.97e-003  -3.8 2.11e-001 -10.7 8.61e-001 1.00e+000h  1\n",
      "  16 -1.6090821e+000 1.31e-005 2.03e-007  -3.8 1.86e-001 -11.2 1.00e+000 1.00e+000h  1\n",
      "  17 -1.6398784e+000 3.40e-004 3.85e-003  -5.7 8.32e-001 -11.6 5.19e-001 1.00e+000h  1\n",
      "  18 -1.6597379e+000 1.12e-003 1.05e-003  -5.7 1.45e+000 -12.1 5.47e-001 1.00e+000h  1\n",
      "  19 -1.6695309e+000 1.10e-003 3.98e-004  -5.7 1.37e+000 -12.6 6.22e-001 1.00e+000h  1\n",
      "iter    objective    inf_pr   inf_du lg(mu)  ||d||  lg(rg) alpha_du alpha_pr  ls\n",
      "  20 -1.6705667e+000 1.17e-003 6.53e-006  -5.7 4.06e-001 -13.1 1.00e+000 1.00e+000h  1\n",
      "  21 -1.6706108e+000 1.89e-004 8.40e-007  -5.7 1.00e-001 -13.5 1.00e+000 1.00e+000h  1\n",
      "  22 -1.6706005e+000 1.11e-006 4.93e-009  -5.7 7.35e-003 -14.0 1.00e+000 1.00e+000h  1\n",
      "  23 -1.6709279e+000 1.67e-003 5.01e-006  -8.6 1.70e-001 -14.5 9.58e-001 1.00e+000h  1\n",
      "  24 -1.6707961e+000 2.49e-006 2.50e-007  -8.6 5.54e-003 -15.0 9.89e-001 1.00e+000h  1\n",
      "  25 -1.6707961e+000 2.87e-008 7.13e-011  -8.6 4.97e-004 -15.5 1.00e+000 1.00e+000h  1\n",
      "  26 -1.6707961e+000 1.74e-013 2.54e-014  -8.6 1.05e-006 -15.9 1.00e+000 1.00e+000h  1\n",
      "\n",
      "Number of Iterations....: 26\n",
      "\n",
      "                                   (scaled)                 (unscaled)\n",
      "Objective...............: -1.6707960757807929e+000  -1.6707960757807929e+000\n",
      "Dual infeasibility......:  2.5420311750638469e-014   2.5420311750638469e-014\n",
      "Constraint violation....:  1.7431542320700544e-013   1.7431542320700544e-013\n",
      "Complementarity.........:  2.5059038214771310e-009   2.5059038214771310e-009\n",
      "Overall NLP error.......:  2.5059038214771310e-009   2.5059038214771310e-009\n",
      "\n",
      "\n",
      "Number of objective function evaluations             = 27\n",
      "Number of objective gradient evaluations             = 27\n",
      "Number of equality constraint evaluations            = 27\n",
      "Number of inequality constraint evaluations          = 0\n",
      "Number of equality constraint Jacobian evaluations   = 27\n",
      "Number of inequality constraint Jacobian evaluations = 0\n",
      "Number of Lagrangian Hessian evaluations             = 26\n",
      "Total CPU secs in IPOPT (w/o function evaluations)   =      4.904\n",
      "Total CPU secs in NLP function evaluations           =      0.183\n",
      "\n",
      "EXIT: Optimal Solution Found.\n",
      "           S  :   t_proc      (avg)   t_wall      (avg)    n_eval\n",
      "       nlp_f  |   2.00ms ( 74.07us)   1.99ms ( 73.70us)        27\n",
      "       nlp_g  |  42.00ms (  1.56ms)  44.69ms (  1.66ms)        27\n",
      "    nlp_grad  |   5.00ms (  5.00ms)   5.00ms (  5.00ms)         1\n",
      "  nlp_grad_f  |        0 (       0) 101.00us (  3.61us)        28\n",
      "  nlp_hess_l  |  61.00ms (  2.35ms)  60.46ms (  2.33ms)        26\n",
      "   nlp_jac_g  |  68.00ms (  2.43ms)  68.44ms (  2.44ms)        28\n",
      "       total  |   5.10 s (  5.10 s)   5.10 s (  5.10 s)         1\n"
     ]
    },
    {
     "data": {
      "text/html": [
       "<div>\n",
       "<style scoped>\n",
       "    .dataframe tbody tr th:only-of-type {\n",
       "        vertical-align: middle;\n",
       "    }\n",
       "\n",
       "    .dataframe tbody tr th {\n",
       "        vertical-align: top;\n",
       "    }\n",
       "\n",
       "    .dataframe thead th {\n",
       "        text-align: right;\n",
       "    }\n",
       "</style>\n",
       "<table border=\"1\" class=\"dataframe\">\n",
       "  <thead>\n",
       "    <tr style=\"text-align: right;\">\n",
       "      <th></th>\n",
       "      <th>s=Measurements_0</th>\n",
       "      <th>s=Measurements_1</th>\n",
       "      <th>s=Measurements_2</th>\n",
       "      <th>s=Measurements_3</th>\n",
       "      <th>Timestamp</th>\n",
       "    </tr>\n",
       "  </thead>\n",
       "  <tbody>\n",
       "    <tr>\n",
       "      <th>0</th>\n",
       "      <td>1.157766</td>\n",
       "      <td>0.210779</td>\n",
       "      <td>0.038786</td>\n",
       "      <td>120.083825</td>\n",
       "      <td>2023-01-26 09:16:54.292982</td>\n",
       "    </tr>\n",
       "    <tr>\n",
       "      <th>1</th>\n",
       "      <td>1.139778</td>\n",
       "      <td>0.237524</td>\n",
       "      <td>0.034195</td>\n",
       "      <td>120.070375</td>\n",
       "      <td>2023-01-26 09:16:52.301021</td>\n",
       "    </tr>\n",
       "    <tr>\n",
       "      <th>2</th>\n",
       "      <td>1.121807</td>\n",
       "      <td>0.264160</td>\n",
       "      <td>0.029676</td>\n",
       "      <td>120.056925</td>\n",
       "      <td>2023-01-26 09:16:50.293589</td>\n",
       "    </tr>\n",
       "    <tr>\n",
       "      <th>3</th>\n",
       "      <td>1.103923</td>\n",
       "      <td>0.290517</td>\n",
       "      <td>0.025227</td>\n",
       "      <td>120.043476</td>\n",
       "      <td>2023-01-26 09:16:48.314663</td>\n",
       "    </tr>\n",
       "    <tr>\n",
       "      <th>4</th>\n",
       "      <td>1.086175</td>\n",
       "      <td>0.316467</td>\n",
       "      <td>0.020850</td>\n",
       "      <td>120.030026</td>\n",
       "      <td>2023-01-26 09:16:46.384427</td>\n",
       "    </tr>\n",
       "    <tr>\n",
       "      <th>...</th>\n",
       "      <td>...</td>\n",
       "      <td>...</td>\n",
       "      <td>...</td>\n",
       "      <td>...</td>\n",
       "      <td>...</td>\n",
       "    </tr>\n",
       "    <tr>\n",
       "      <th>235</th>\n",
       "      <td>1.086175</td>\n",
       "      <td>0.316467</td>\n",
       "      <td>0.020850</td>\n",
       "      <td>120.030026</td>\n",
       "      <td>2023-01-22 11:57:03.183611</td>\n",
       "    </tr>\n",
       "    <tr>\n",
       "      <th>236</th>\n",
       "      <td>1.068515</td>\n",
       "      <td>0.354355</td>\n",
       "      <td>0.016541</td>\n",
       "      <td>120.024021</td>\n",
       "      <td>2023-01-22 11:57:01.155809</td>\n",
       "    </tr>\n",
       "    <tr>\n",
       "      <th>237</th>\n",
       "      <td>1.051033</td>\n",
       "      <td>0.391736</td>\n",
       "      <td>0.012303</td>\n",
       "      <td>120.018015</td>\n",
       "      <td>2023-01-22 11:56:59.152071</td>\n",
       "    </tr>\n",
       "    <tr>\n",
       "      <th>238</th>\n",
       "      <td>1.033770</td>\n",
       "      <td>0.428512</td>\n",
       "      <td>0.008134</td>\n",
       "      <td>120.012010</td>\n",
       "      <td>2023-01-22 11:56:57.180998</td>\n",
       "    </tr>\n",
       "    <tr>\n",
       "      <th>239</th>\n",
       "      <td>1.016753</td>\n",
       "      <td>0.464614</td>\n",
       "      <td>0.004033</td>\n",
       "      <td>120.006005</td>\n",
       "      <td>2023-01-22 11:56:55.159992</td>\n",
       "    </tr>\n",
       "  </tbody>\n",
       "</table>\n",
       "<p>240 rows × 5 columns</p>\n",
       "</div>"
      ],
      "text/plain": [
       "     s=Measurements_0  s=Measurements_1  s=Measurements_2  s=Measurements_3  \\\n",
       "0            1.157766          0.210779          0.038786        120.083825   \n",
       "1            1.139778          0.237524          0.034195        120.070375   \n",
       "2            1.121807          0.264160          0.029676        120.056925   \n",
       "3            1.103923          0.290517          0.025227        120.043476   \n",
       "4            1.086175          0.316467          0.020850        120.030026   \n",
       "..                ...               ...               ...               ...   \n",
       "235          1.086175          0.316467          0.020850        120.030026   \n",
       "236          1.068515          0.354355          0.016541        120.024021   \n",
       "237          1.051033          0.391736          0.012303        120.018015   \n",
       "238          1.033770          0.428512          0.008134        120.012010   \n",
       "239          1.016753          0.464614          0.004033        120.006005   \n",
       "\n",
       "                     Timestamp  \n",
       "0   2023-01-26 09:16:54.292982  \n",
       "1   2023-01-26 09:16:52.301021  \n",
       "2   2023-01-26 09:16:50.293589  \n",
       "3   2023-01-26 09:16:48.314663  \n",
       "4   2023-01-26 09:16:46.384427  \n",
       "..                         ...  \n",
       "235 2023-01-22 11:57:03.183611  \n",
       "236 2023-01-22 11:57:01.155809  \n",
       "237 2023-01-22 11:56:59.152071  \n",
       "238 2023-01-22 11:56:57.180998  \n",
       "239 2023-01-22 11:56:55.159992  \n",
       "\n",
       "[240 rows x 5 columns]"
      ]
     },
     "execution_count": 15,
     "metadata": {},
     "output_type": "execute_result"
    }
   ],
   "source": [
    "df_x, df_u = opc_server.get_data()\n",
    "df_x"
   ]
  },
  {
   "cell_type": "markdown",
   "id": "e2e29082",
   "metadata": {},
   "source": [
    "It is important to disconnect the clients again and stop the server!"
   ]
  },
  {
   "cell_type": "code",
   "execution_count": 16,
   "id": "523df8b6",
   "metadata": {},
   "outputs": [
    {
     "name": "stdout",
     "output_type": "stream",
     "text": [
      "A client of type controller disconnected from server opc.tcp://localhost:4840/freeopcua/server/\n",
      "A client of type simulator disconnected from server opc.tcp://localhost:4840/freeopcua/server/\n",
      "A client of type estimator disconnected from server opc.tcp://localhost:4840/freeopcua/server/\n",
      "The server  Bio Reactor OPCUA was stopped successfully @  2023-01-26 10:17 Mitteleuropäische Zeit\n"
     ]
    },
    {
     "data": {
      "text/plain": [
       "True"
      ]
     },
     "execution_count": 16,
     "metadata": {},
     "output_type": "execute_result"
    }
   ],
   "source": [
    "mpc.stop()\n",
    "simulator.stop()\n",
    "estimator.stop()\n",
    "opc_server.stop()"
   ]
  }
 ],
 "metadata": {
  "kernelspec": {
   "display_name": "Python 3 (ipykernel)",
   "language": "python",
   "name": "python3"
  },
  "language_info": {
   "codemirror_mode": {
    "name": "ipython",
    "version": 3
   },
   "file_extension": ".py",
   "mimetype": "text/x-python",
   "name": "python",
   "nbconvert_exporter": "python",
   "pygments_lexer": "ipython3",
   "version": "3.9.7"
  }
 },
 "nbformat": 4,
 "nbformat_minor": 5
}
